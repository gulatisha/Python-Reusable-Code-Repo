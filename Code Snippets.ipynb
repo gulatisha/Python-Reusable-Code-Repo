{
 "cells": [
  {
   "cell_type": "code",
   "execution_count": null,
   "metadata": {},
   "outputs": [],
   "source": [
    "#Returns dataframe with only categorical columns\n",
    "def check_categorical(dataset):\n",
    "    cat_columns = dataset.select_dtypes(include=['object','category']).columns\n",
    "    return dataset[cat_columns]\n",
    "check_categorical(dataset)"
   ]
  },
  {
   "cell_type": "code",
   "execution_count": null,
   "metadata": {},
   "outputs": [],
   "source": [
    "#Returns dataframe with only numerical columns\n",
    "def check_numerical(dataset):\n",
    "    num_columns = dataset.select_dtypes(include=np.number).columns\n",
    "    return dataset[num_columns]\n",
    "check_numerical(dataset)"
   ]
  },
  {
   "cell_type": "code",
   "execution_count": null,
   "metadata": {},
   "outputs": [],
   "source": [
    "#Returns columns with number of missing data in each \n",
    "def missing_values(dataframe):\n",
    "    percent_null = (dataframe.isnull().sum()/dataframe.shape[0])*100\n",
    "    missing_data = pd.Series(percent_null,index=dataframe.columns)\n",
    "    return missing_data\n",
    "missing_values(dataset)"
   ]
  },
  {
   "cell_type": "code",
   "execution_count": null,
   "metadata": {},
   "outputs": [],
   "source": [
    "#Returns skew() values for each continous feature:\n",
    "def check_skewness(dataset):\n",
    "    numerical_df = check_numerical(dataset)\n",
    "    for i in numerical_df.columns:\n",
    "        print(i,numerical_df[i].skew())\n",
    "check_skewness(dataset)"
   ]
  },
  {
   "cell_type": "code",
   "execution_count": null,
   "metadata": {},
   "outputs": [],
   "source": [
    "#remove skewness, add condition for left skewmess if needed\n",
    "def remove_skewness(dataset):\n",
    "    numerical_df = check_numerical(dataset)\n",
    "    for i in numerical_df.columns:\n",
    "        if dataset[i].skew()>1:\n",
    "            dataset[i] = np.log1p(dataset[i])\n",
    "    return dataset\n",
    "transformed_dataset = remove_skewness(dataset)\n",
    "check_skewness(transformed_dataset) "
   ]
  },
  {
   "cell_type": "code",
   "execution_count": null,
   "metadata": {},
   "outputs": [],
   "source": [
    "#plot distplots for the continous features\n",
    "def plot_distplots(dataset):\n",
    "    numerical_df = check_numerical(dataset)\n",
    "    numerical_columns = numerical_df.columns.tolist()\n",
    "    for i in range(0,len(numerical_columns),2):\n",
    "        if len(numerical_columns) > i+1:\n",
    "            plt.figure(figsize=(10,4))\n",
    "            plt.subplot(121)\n",
    "            sns.distplot(dataset[numerical_columns[i]],color='#ffa600')\n",
    "            plt.subplot(122)            \n",
    "            sns.distplot(dataset[numerical_columns[i+1]],color='#ffa600')\n",
    "            plt.tight_layout()\n",
    "            plt.show()\n",
    "\n",
    "        else:\n",
    "            sns.distplot(dataset[numerical_columns[i]],color='#ffa600')\n",
    "plot_distplots(dataset)"
   ]
  },
  {
   "cell_type": "code",
   "execution_count": null,
   "metadata": {},
   "outputs": [],
   "source": [
    "#bar plots for categorical features\n",
    "def plot_categorical_columns(dataframe):\n",
    "    categorical_columns = dataframe.select_dtypes(include=['object']).columns\n",
    "    \n",
    "    for i in range(0,len(categorical_columns),2):\n",
    "            if len(categorical_columns) > i+1:\n",
    "                \n",
    "                plt.figure(figsize=(10,4))\n",
    "                plt.subplot(121)\n",
    "                dataframe[categorical_columns[i]].value_counts(normalize=True).plot(kind='bar')\n",
    "                plt.title(categorical_columns[i])\n",
    "                plt.subplot(122)     \n",
    "                dataframe[categorical_columns[i+1]].value_counts(normalize=True).plot(kind='bar')\n",
    "                plt.title(categorical_columns[i+1])\n",
    "                plt.tight_layout()\n",
    "                plt.show()\n",
    "\n",
    "            else:\n",
    "                dataframe[categorical_columns[i]].value_counts(normalize=True).plot(kind='bar')\n",
    "                plt.title(categorical_columns[i])\n",
    "        \n",
    "        \n",
    "        \n",
    "        \n",
    "plot = plot_categorical_columns(dataset)"
   ]
  },
  {
   "cell_type": "code",
   "execution_count": null,
   "metadata": {},
   "outputs": [],
   "source": [
    "#bivariate countplots for categorical features vs categorical target\n",
    "def bivariate_analysis_categorical(dataframe,target):\n",
    "    dataframe = dataframe.drop('Attrition',1)\n",
    "    categorical_columns = dataframe.select_dtypes(exclude=np.number).columns\n",
    "    for i in range(0,len(categorical_columns),2):\n",
    "        \n",
    "        if len(categorical_columns) > i+1:\n",
    "            plt.figure(figsize=(15,5))\n",
    "            plt.subplot(121)\n",
    "            sns.countplot(x=dataframe[categorical_columns[i]],hue=target,data=dataframe)\n",
    "            plt.xticks(rotation=90)\n",
    "            plt.subplot(122)            \n",
    "            sns.countplot(dataframe[categorical_columns[i+1]],hue=target,data=dataframe)\n",
    "            plt.xticks(rotation=90)\n",
    "            plt.tight_layout()\n",
    "            plt.show()\n",
    "\n",
    "\n",
    "bivariate_analysis_categorical(dataset,dataset['Attrition'])"
   ]
  },
  {
   "cell_type": "code",
   "execution_count": null,
   "metadata": {},
   "outputs": [],
   "source": [
    "#bivariate plots for continous features vs categorical target\n",
    "def bivariate_analysis_numerical(dataframe):\n",
    "    dataset = check_numerical(dataframe)\n",
    "    numerical_columns = dataset.columns\n",
    "    for i in numerical_columns:\n",
    "        plt.figure(figsize=(10,5))\n",
    "        sns.barplot(x=dataframe['Attrition'],y=dataset[i])\n",
    "        plt.xticks(rotation=90)\n",
    "        plt.tight_layout()\n",
    "        plt.show()\n",
    "\n",
    "\n",
    "bivariate_analysis_numerical(dataset)"
   ]
  },
  {
   "cell_type": "code",
   "execution_count": null,
   "metadata": {},
   "outputs": [],
   "source": [
    "#returns percentage of classes in the categorical target\n",
    "def class_imbalance(target):\n",
    "    class_values = (target.value_counts()/target.value_counts().sum())*100\n",
    "    return class_values\n",
    "\n",
    "class_imbalance(dataset['Attrition'])"
   ]
  }
 ],
 "metadata": {
  "kernelspec": {
   "display_name": "Python 3",
   "language": "python",
   "name": "python3"
  },
  "language_info": {
   "codemirror_mode": {
    "name": "ipython",
    "version": 3
   },
   "file_extension": ".py",
   "mimetype": "text/x-python",
   "name": "python",
   "nbconvert_exporter": "python",
   "pygments_lexer": "ipython3",
   "version": "3.7.3"
  }
 },
 "nbformat": 4,
 "nbformat_minor": 2
}
